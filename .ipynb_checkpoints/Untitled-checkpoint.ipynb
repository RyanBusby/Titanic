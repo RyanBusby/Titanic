{
 "cells": [
  {
   "cell_type": "code",
   "execution_count": 1,
   "metadata": {},
   "outputs": [],
   "source": [
    "import pandas as pd\n",
    "from sklearn.svm import SVC\n",
    "from sklearn.pipeline import make_pipeline\n",
    "from sklearn.preprocessing import StandardScaler\n",
    "from sklearn.linear_model import LogisticRegressionCV\n",
    "from sklearn.model_selection import train_test_split\n",
    "\n",
    "from data_prep import get_vectors, get_df"
   ]
  },
  {
   "cell_type": "code",
   "execution_count": 2,
   "metadata": {},
   "outputs": [],
   "source": [
    "import numpy as np"
   ]
  },
  {
   "cell_type": "code",
   "execution_count": 3,
   "metadata": {},
   "outputs": [],
   "source": [
    "df = get_df('data/train.csv')"
   ]
  },
  {
   "cell_type": "code",
   "execution_count": 4,
   "metadata": {},
   "outputs": [
    {
     "data": {
      "text/html": [
       "<div>\n",
       "<style scoped>\n",
       "    .dataframe tbody tr th:only-of-type {\n",
       "        vertical-align: middle;\n",
       "    }\n",
       "\n",
       "    .dataframe tbody tr th {\n",
       "        vertical-align: top;\n",
       "    }\n",
       "\n",
       "    .dataframe thead th {\n",
       "        text-align: right;\n",
       "    }\n",
       "</style>\n",
       "<table border=\"1\" class=\"dataframe\">\n",
       "  <thead>\n",
       "    <tr style=\"text-align: right;\">\n",
       "      <th></th>\n",
       "      <th>Survived</th>\n",
       "      <th>Pclass</th>\n",
       "      <th>Age</th>\n",
       "      <th>Fare</th>\n",
       "      <th>fam_size</th>\n",
       "      <th>nicnamed</th>\n",
       "      <th>est_age</th>\n",
       "      <th>no_age</th>\n",
       "      <th>embark_Q</th>\n",
       "      <th>embark_S</th>\n",
       "      <th>...</th>\n",
       "      <th>cabin_D</th>\n",
       "      <th>cabin_E</th>\n",
       "      <th>cabin_F</th>\n",
       "      <th>cabin_G</th>\n",
       "      <th>num_rooms_or_x</th>\n",
       "      <th>class1_fare</th>\n",
       "      <th>class2_fare</th>\n",
       "      <th>class3_fare</th>\n",
       "      <th>unsinkable_sim</th>\n",
       "      <th>unsinkable_dist</th>\n",
       "    </tr>\n",
       "  </thead>\n",
       "  <tbody>\n",
       "    <tr>\n",
       "      <th>0</th>\n",
       "      <td>0.0</td>\n",
       "      <td>3.0</td>\n",
       "      <td>22.0</td>\n",
       "      <td>7.2500</td>\n",
       "      <td>1.0</td>\n",
       "      <td>0.0</td>\n",
       "      <td>0.0</td>\n",
       "      <td>0.0</td>\n",
       "      <td>0.0</td>\n",
       "      <td>1.0</td>\n",
       "      <td>...</td>\n",
       "      <td>0.0</td>\n",
       "      <td>0.0</td>\n",
       "      <td>0.0</td>\n",
       "      <td>0.0</td>\n",
       "      <td>1.0</td>\n",
       "      <td>0.0000</td>\n",
       "      <td>0.0</td>\n",
       "      <td>7.250</td>\n",
       "      <td>0.810799</td>\n",
       "      <td>41.618012</td>\n",
       "    </tr>\n",
       "    <tr>\n",
       "      <th>1</th>\n",
       "      <td>1.0</td>\n",
       "      <td>1.0</td>\n",
       "      <td>38.0</td>\n",
       "      <td>71.2833</td>\n",
       "      <td>1.0</td>\n",
       "      <td>0.0</td>\n",
       "      <td>0.0</td>\n",
       "      <td>0.0</td>\n",
       "      <td>0.0</td>\n",
       "      <td>0.0</td>\n",
       "      <td>...</td>\n",
       "      <td>0.0</td>\n",
       "      <td>0.0</td>\n",
       "      <td>0.0</td>\n",
       "      <td>0.0</td>\n",
       "      <td>1.0</td>\n",
       "      <td>71.2833</td>\n",
       "      <td>0.0</td>\n",
       "      <td>0.000</td>\n",
       "      <td>0.885613</td>\n",
       "      <td>61.922393</td>\n",
       "    </tr>\n",
       "    <tr>\n",
       "      <th>2</th>\n",
       "      <td>1.0</td>\n",
       "      <td>3.0</td>\n",
       "      <td>26.0</td>\n",
       "      <td>7.9250</td>\n",
       "      <td>0.0</td>\n",
       "      <td>0.0</td>\n",
       "      <td>0.0</td>\n",
       "      <td>0.0</td>\n",
       "      <td>0.0</td>\n",
       "      <td>1.0</td>\n",
       "      <td>...</td>\n",
       "      <td>0.0</td>\n",
       "      <td>0.0</td>\n",
       "      <td>0.0</td>\n",
       "      <td>0.0</td>\n",
       "      <td>1.0</td>\n",
       "      <td>0.0000</td>\n",
       "      <td>0.0</td>\n",
       "      <td>7.925</td>\n",
       "      <td>0.813791</td>\n",
       "      <td>39.409670</td>\n",
       "    </tr>\n",
       "    <tr>\n",
       "      <th>3</th>\n",
       "      <td>1.0</td>\n",
       "      <td>1.0</td>\n",
       "      <td>35.0</td>\n",
       "      <td>53.1000</td>\n",
       "      <td>1.0</td>\n",
       "      <td>0.0</td>\n",
       "      <td>0.0</td>\n",
       "      <td>0.0</td>\n",
       "      <td>0.0</td>\n",
       "      <td>1.0</td>\n",
       "      <td>...</td>\n",
       "      <td>0.0</td>\n",
       "      <td>0.0</td>\n",
       "      <td>0.0</td>\n",
       "      <td>0.0</td>\n",
       "      <td>1.0</td>\n",
       "      <td>53.1000</td>\n",
       "      <td>0.0</td>\n",
       "      <td>0.000</td>\n",
       "      <td>0.918053</td>\n",
       "      <td>37.056816</td>\n",
       "    </tr>\n",
       "    <tr>\n",
       "      <th>4</th>\n",
       "      <td>0.0</td>\n",
       "      <td>3.0</td>\n",
       "      <td>35.0</td>\n",
       "      <td>8.0500</td>\n",
       "      <td>0.0</td>\n",
       "      <td>0.0</td>\n",
       "      <td>0.0</td>\n",
       "      <td>0.0</td>\n",
       "      <td>0.0</td>\n",
       "      <td>1.0</td>\n",
       "      <td>...</td>\n",
       "      <td>0.0</td>\n",
       "      <td>0.0</td>\n",
       "      <td>0.0</td>\n",
       "      <td>0.0</td>\n",
       "      <td>1.0</td>\n",
       "      <td>0.0000</td>\n",
       "      <td>0.0</td>\n",
       "      <td>8.050</td>\n",
       "      <td>0.810811</td>\n",
       "      <td>36.168849</td>\n",
       "    </tr>\n",
       "  </tbody>\n",
       "</table>\n",
       "<p>5 rows × 23 columns</p>\n",
       "</div>"
      ],
      "text/plain": [
       "   Survived  Pclass   Age     Fare  fam_size  nicnamed  est_age  no_age  \\\n",
       "0       0.0     3.0  22.0   7.2500       1.0       0.0      0.0     0.0   \n",
       "1       1.0     1.0  38.0  71.2833       1.0       0.0      0.0     0.0   \n",
       "2       1.0     3.0  26.0   7.9250       0.0       0.0      0.0     0.0   \n",
       "3       1.0     1.0  35.0  53.1000       1.0       0.0      0.0     0.0   \n",
       "4       0.0     3.0  35.0   8.0500       0.0       0.0      0.0     0.0   \n",
       "\n",
       "   embark_Q  embark_S  ...  cabin_D  cabin_E  cabin_F  cabin_G  \\\n",
       "0       0.0       1.0  ...      0.0      0.0      0.0      0.0   \n",
       "1       0.0       0.0  ...      0.0      0.0      0.0      0.0   \n",
       "2       0.0       1.0  ...      0.0      0.0      0.0      0.0   \n",
       "3       0.0       1.0  ...      0.0      0.0      0.0      0.0   \n",
       "4       0.0       1.0  ...      0.0      0.0      0.0      0.0   \n",
       "\n",
       "   num_rooms_or_x  class1_fare  class2_fare  class3_fare  unsinkable_sim  \\\n",
       "0             1.0       0.0000          0.0        7.250        0.810799   \n",
       "1             1.0      71.2833          0.0        0.000        0.885613   \n",
       "2             1.0       0.0000          0.0        7.925        0.813791   \n",
       "3             1.0      53.1000          0.0        0.000        0.918053   \n",
       "4             1.0       0.0000          0.0        8.050        0.810811   \n",
       "\n",
       "   unsinkable_dist  \n",
       "0        41.618012  \n",
       "1        61.922393  \n",
       "2        39.409670  \n",
       "3        37.056816  \n",
       "4        36.168849  \n",
       "\n",
       "[5 rows x 23 columns]"
      ]
     },
     "execution_count": 4,
     "metadata": {},
     "output_type": "execute_result"
    }
   ],
   "source": [
    "df.head()"
   ]
  },
  {
   "cell_type": "code",
   "execution_count": null,
   "metadata": {},
   "outputs": [],
   "source": [
    "ss = StandardScaler()\n",
    "scale_df = df.drop(cat_vars, axis=1)\n",
    "# x = ss.fit_transform(scale_df.values)\n",
    "x = ss.fit_transform(df.drop('Survived', axis=1).values)"
   ]
  },
  {
   "cell_type": "code",
   "execution_count": null,
   "metadata": {},
   "outputs": [],
   "source": [
    "df.loc[:,]"
   ]
  },
  {
   "cell_type": "code",
   "execution_count": null,
   "metadata": {},
   "outputs": [],
   "source": [
    "use_feats = [\n",
    "    # 'Pclass',\n",
    "    'Age',\n",
    "    # 'Fare_Class',\n",
    "    # 'Fare',\n",
    "    # 'num_rooms',\n",
    "    'num_rooms_or_x',\n",
    "    # '_FarexRoomsxClass',\n",
    "    'fam_size',\n",
    "    # 'Fare_Fam',\n",
    "    'nicnamed',\n",
    "    'est_age',\n",
    "    # 'no_age',\n",
    "    # 'embark_Q',\n",
    "    'embark_S',\n",
    "    'male',\n",
    "    'cabin_B',\n",
    "    # 'cabin_C',\n",
    "    # 'cabin_D',\n",
    "    'cabin_E',\n",
    "    # 'cabin_F',\n",
    "    # 'cabin_G',\n",
    "    # 'cabin_X',\n",
    "    'class1_fare',\n",
    "    'class2_fare',\n",
    "    'class3_fare',\n",
    "    # 'class3_fare_fam',\n",
    "    # 'class_1',\n",
    "    # 'class_2',\n",
    "    # 'class_3'\n",
    "    'unsinkable_sim',\n",
    "    # 'unsinkable_dist'\n",
    "]"
   ]
  },
  {
   "cell_type": "code",
   "execution_count": null,
   "metadata": {},
   "outputs": [],
   "source": []
  },
  {
   "cell_type": "code",
   "execution_count": 5,
   "metadata": {},
   "outputs": [],
   "source": [
    "ss = StandardScaler()\n",
    "x = ss.fit_transform(df.drop('Survived', axis=1).values)"
   ]
  },
  {
   "cell_type": "code",
   "execution_count": 6,
   "metadata": {},
   "outputs": [],
   "source": [
    "from sklearn.decomposition import PCA"
   ]
  },
  {
   "cell_type": "code",
   "execution_count": 7,
   "metadata": {},
   "outputs": [],
   "source": [
    "pca = PCA()"
   ]
  },
  {
   "cell_type": "code",
   "execution_count": 8,
   "metadata": {},
   "outputs": [
    {
     "data": {
      "text/plain": [
       "PCA(copy=True, iterated_power='auto', n_components=None, random_state=None,\n",
       "    svd_solver='auto', tol=0.0, whiten=False)"
      ]
     },
     "execution_count": 8,
     "metadata": {},
     "output_type": "execute_result"
    }
   ],
   "source": [
    "pca.fit(x)"
   ]
  },
  {
   "cell_type": "code",
   "execution_count": 14,
   "metadata": {
    "collapsed": true,
    "jupyter": {
     "outputs_hidden": true
    }
   },
   "outputs": [
    {
     "data": {
      "text/plain": [
       "array([[-3.63848575e-01,  1.18702465e-01,  4.41760539e-01,\n",
       "         1.53785247e-02, -3.63170398e-02, -1.33026488e-01,\n",
       "        -1.27215335e-01, -9.87927848e-02, -7.17475640e-02,\n",
       "        -9.69942624e-02,  2.43339441e-01,  2.20423561e-01,\n",
       "         8.51841547e-02,  5.38888127e-02, -1.35086602e-02,\n",
       "        -2.00544810e-02,  2.66275317e-01,  4.59702762e-01,\n",
       "        -1.18842675e-02, -1.97677137e-01,  9.51334622e-02,\n",
       "         3.86753230e-01],\n",
       "       [ 2.05545658e-01, -3.75153331e-01,  1.75023756e-01,\n",
       "         4.52315031e-01,  3.40870298e-02, -4.77690525e-03,\n",
       "        -1.51729485e-02, -2.01871809e-03,  2.84627251e-02,\n",
       "        -1.32605935e-01,  1.32964979e-02, -4.18097704e-02,\n",
       "        -1.25088507e-01, -1.26365486e-01,  5.64919802e-02,\n",
       "         6.79533660e-02,  1.68174542e-01,  7.33418574e-02,\n",
       "         4.54533015e-02,  3.93247077e-01, -5.16792644e-01,\n",
       "         2.51357163e-01],\n",
       "       [ 6.48496353e-02,  3.85239425e-02,  9.23323506e-02,\n",
       "        -4.36373354e-02,  1.17533178e-01,  5.13163941e-01,\n",
       "         5.17036371e-01,  3.92158898e-01, -3.88188875e-01,\n",
       "        -1.71805470e-02,  3.90696053e-02,  6.14723537e-02,\n",
       "        -3.63644371e-02, -5.08649455e-02, -4.59285630e-02,\n",
       "        -4.54377495e-02,  6.67671827e-02,  1.18950282e-01,\n",
       "        -2.66251812e-01,  9.60913528e-02,  1.06308332e-01,\n",
       "         1.05866441e-01],\n",
       "       [-1.32913602e-01, -1.65710173e-01, -4.53872817e-02,\n",
       "        -1.13047038e-01,  3.64912327e-01, -3.00232703e-02,\n",
       "        -4.67019779e-02,  2.84818842e-01, -2.85477352e-01,\n",
       "        -3.78371526e-01,  8.12823578e-03, -1.09053320e-01,\n",
       "         2.82519439e-02, -1.42517727e-02,  2.89139484e-01,\n",
       "         1.17865601e-02, -2.88276153e-02, -6.82597633e-02,\n",
       "         4.99540120e-01, -3.44949964e-01, -1.59883441e-01,\n",
       "        -4.15017841e-02],\n",
       "       [ 4.71183281e-02, -7.94868137e-02,  1.71065276e-02,\n",
       "        -2.11051330e-01, -1.10864584e-01,  2.08914758e-01,\n",
       "         1.85321319e-01, -1.63012493e-01,  2.00935473e-01,\n",
       "         4.64958391e-01,  2.43755884e-02,  5.70135694e-02,\n",
       "        -3.43737036e-01, -2.43447639e-01,  3.90648220e-01,\n",
       "        -2.19862765e-01,  2.40484585e-01,  5.28837215e-03,\n",
       "         2.73656304e-01, -2.04073327e-01, -7.26948894e-02,\n",
       "         1.06396968e-01],\n",
       "       [ 2.52563110e-01, -6.87352433e-02, -6.61998583e-02,\n",
       "        -2.51568071e-01,  5.77298032e-02, -2.49843223e-01,\n",
       "        -2.45289830e-01,  1.58812871e-01, -1.75620448e-01,\n",
       "         1.11009408e-01,  5.28900837e-01, -4.47934965e-01,\n",
       "        -1.92732612e-01, -1.60942122e-01, -1.91112813e-02,\n",
       "         7.85098252e-02,  1.96255818e-01, -5.66817023e-03,\n",
       "        -2.70259216e-01, -1.75351344e-02,  7.45755359e-02,\n",
       "         4.57515432e-02],\n",
       "       [-1.27819412e-02,  1.31763876e-02, -4.46061389e-03,\n",
       "         2.06902643e-02,  3.41023208e-01,  1.10668100e-02,\n",
       "         9.70748879e-03, -3.33990656e-02,  1.66281049e-01,\n",
       "        -5.94854549e-02,  5.95845142e-03,  2.88712041e-02,\n",
       "        -5.69039754e-01,  7.02288684e-01,  8.75048323e-02,\n",
       "         1.94615736e-02,  7.43259813e-02,  1.04060906e-02,\n",
       "        -1.15568983e-01,  3.83509039e-02,  6.11813407e-02,\n",
       "        -1.65760563e-02],\n",
       "       [ 1.11535415e-01, -1.42652335e-01, -2.70388582e-02,\n",
       "        -1.94920411e-01,  1.62276320e-02, -1.63492132e-01,\n",
       "        -1.74320142e-01,  1.56104467e-01, -1.20082962e-01,\n",
       "         1.85347130e-02, -2.64577042e-01,  5.62067438e-01,\n",
       "        -3.77871941e-01, -2.74530114e-01, -1.74556071e-01,\n",
       "         4.11983579e-01, -5.75953319e-02,  1.78255122e-02,\n",
       "        -9.27063154e-02, -1.19652272e-01,  6.09977541e-03,\n",
       "         3.33783276e-02],\n",
       "       [-5.32329779e-02, -3.44585128e-02, -1.80423448e-02,\n",
       "        -6.45900265e-02, -9.63551563e-02,  2.10677907e-01,\n",
       "         2.19586995e-01, -2.12845756e-01,  2.00364032e-01,\n",
       "        -1.30710680e-01,  1.19976815e-01, -1.50067758e-01,\n",
       "         1.41679693e-01,  2.53754708e-02,  2.40338060e-01,\n",
       "         8.08919502e-01,  8.93277669e-02,  6.82184470e-03,\n",
       "        -3.91672427e-02, -7.68654540e-02,  3.56986055e-02,\n",
       "        -2.39053195e-02],\n",
       "       [ 7.33463643e-02,  3.74092891e-02, -6.24337253e-02,\n",
       "         4.63243892e-02,  3.66683420e-01, -1.41514177e-01,\n",
       "        -1.36939206e-01,  1.80891149e-02,  5.57587607e-02,\n",
       "         1.12802891e-02, -2.15151261e-01,  1.93785195e-01,\n",
       "         3.02793077e-01, -1.32127981e-01,  5.86671748e-01,\n",
       "        -8.05415562e-02,  2.64470731e-01, -1.07492109e-02,\n",
       "        -3.86118832e-01,  1.31795570e-01,  1.57241234e-01,\n",
       "        -7.40287447e-02],\n",
       "       [ 4.91716422e-02, -1.63329956e-02,  1.13163022e-02,\n",
       "         2.62237870e-02, -6.49933558e-01, -1.09007763e-01,\n",
       "        -1.29854564e-01,  3.06624851e-01, -3.16889933e-01,\n",
       "         1.18055364e-01, -1.74174321e-01, -2.17609284e-02,\n",
       "         1.71093824e-02,  3.85107235e-01,  3.86462641e-01,\n",
       "         6.24055667e-02,  1.82868186e-02,  1.16204190e-02,\n",
       "        -1.78364169e-02,  1.20534967e-02, -5.48266342e-02,\n",
       "         1.92044310e-02],\n",
       "       [ 1.08364935e-01, -3.78109856e-01,  1.08496985e-01,\n",
       "        -2.94689700e-01,  2.32480951e-01,  2.86064621e-03,\n",
       "        -2.03940385e-02, -2.08066163e-02,  1.64572236e-03,\n",
       "         3.80913072e-01, -3.76569410e-01, -2.24024505e-01,\n",
       "         3.41665684e-01,  2.63998099e-01, -2.28837100e-01,\n",
       "         6.38842698e-02,  2.27814812e-02,  1.43360056e-01,\n",
       "        -4.99039838e-02, -1.49796349e-01, -1.21393060e-01,\n",
       "         2.25982729e-01],\n",
       "       [ 5.23696826e-02,  6.14018200e-01,  9.97202539e-02,\n",
       "         2.15734499e-01,  2.28785547e-01, -7.68896522e-02,\n",
       "        -6.84408808e-02,  2.49420681e-01, -2.27923402e-02,\n",
       "         3.64761472e-01, -1.65019332e-01, -1.65283221e-01,\n",
       "        -2.60535408e-02, -5.33728586e-02, -5.89701487e-02,\n",
       "         2.84579984e-01,  1.08339321e-01, -5.47385705e-03,\n",
       "         3.39134960e-01,  1.56675980e-01,  1.36227923e-02,\n",
       "         1.04785554e-01],\n",
       "       [ 4.03158503e-01,  2.43030412e-01,  9.09117535e-02,\n",
       "        -2.75509862e-01, -1.65050169e-01, -6.63998144e-03,\n",
       "         2.69382736e-02,  2.82779111e-02,  2.67589464e-01,\n",
       "        -5.24801595e-01, -3.57142357e-01, -2.20427121e-01,\n",
       "        -8.89338950e-02, -8.05171694e-02, -1.13344753e-02,\n",
       "        -1.29573565e-01,  1.08796321e-01,  8.83835297e-02,\n",
       "         1.94307412e-02, -3.14719074e-02,  1.05142925e-01,\n",
       "         2.80850224e-01],\n",
       "       [-1.11350059e-02, -1.09284794e-01, -2.01256180e-01,\n",
       "         1.39565199e-01, -1.18383732e-01,  2.60907232e-02,\n",
       "         2.37561192e-02,  1.71834875e-01,  9.60811481e-02,\n",
       "        -6.50115515e-02, -3.08883464e-02,  1.01107366e-01,\n",
       "         1.06431381e-01,  9.15292834e-02, -3.31668899e-01,\n",
       "        -1.84770692e-02,  7.84201024e-01, -1.77863702e-01,\n",
       "         1.03779711e-01, -1.52248499e-01,  6.76109841e-02,\n",
       "        -2.08205981e-01],\n",
       "       [ 8.33749616e-02,  1.02107145e-01, -4.50426115e-02,\n",
       "         2.38037303e-02,  3.09761212e-02,  3.38237793e-02,\n",
       "        -2.01163656e-02, -6.57569349e-01, -6.47064258e-01,\n",
       "        -5.97659563e-02, -2.15066184e-01, -1.01587788e-01,\n",
       "        -1.18888267e-01, -7.47179948e-03, -3.27982903e-02,\n",
       "         1.21840600e-02,  2.03094874e-01, -5.66066696e-02,\n",
       "         3.81691492e-02,  3.20229298e-02,  4.50708421e-02,\n",
       "        -4.36341566e-02],\n",
       "       [ 3.12016024e-01,  2.22469136e-01, -3.05238248e-02,\n",
       "        -4.34613156e-01,  4.06988884e-02,  6.85477043e-02,\n",
       "        -4.27014368e-02, -8.47530941e-02, -4.35797870e-02,\n",
       "        -2.36125606e-02,  3.35197947e-01,  4.14234770e-01,\n",
       "         2.69098507e-01,  2.37998287e-01, -1.02368106e-02,\n",
       "        -2.75321316e-03,  6.19330069e-02, -1.19567681e-01,\n",
       "         1.80526620e-01,  2.64213678e-01, -3.32409036e-01,\n",
       "         3.70196348e-02],\n",
       "       [ 1.28836684e-01,  3.17093521e-01, -1.68707085e-01,\n",
       "         2.31152056e-01,  1.81626266e-02,  2.27971682e-01,\n",
       "        -1.67289515e-01, -2.61117233e-02,  1.81000551e-02,\n",
       "         1.06195977e-02,  1.22612904e-02,  4.48987612e-03,\n",
       "         1.39090212e-02,  1.05217032e-02, -1.41990268e-02,\n",
       "        -2.75094062e-02, -4.94918076e-02,  3.10909661e-02,\n",
       "        -3.52431828e-01, -5.75821687e-01, -5.07836820e-01,\n",
       "         3.20049547e-02],\n",
       "       [-5.87706464e-01,  1.44135641e-01,  3.47586066e-03,\n",
       "        -3.93398086e-01, -3.94783308e-02,  1.96050912e-02,\n",
       "        -4.55498448e-02,  6.33235683e-02,  3.02602587e-02,\n",
       "        -5.97561445e-02, -2.02387912e-01, -1.80746080e-01,\n",
       "        -1.31006264e-01, -1.14480632e-01, -3.39117237e-02,\n",
       "        -1.46412810e-02,  1.58440238e-01, -1.63149491e-02,\n",
       "        -2.00325429e-01,  2.80459376e-01, -4.36716004e-01,\n",
       "        -1.62471284e-01],\n",
       "       [-2.94687224e-02, -9.75830982e-02,  6.13626420e-02,\n",
       "        -1.32727314e-02, -6.72877270e-03,  6.66286418e-01,\n",
       "        -6.82976736e-01,  3.35462597e-02,  3.43052192e-02,\n",
       "        -1.82689927e-02, -9.26927917e-03, -3.01746760e-02,\n",
       "        -1.23283684e-02, -2.39344012e-02, -3.96437141e-04,\n",
       "         9.95877921e-03, -6.05191101e-03,  1.14992003e-02,\n",
       "         8.69725325e-02,  1.39251836e-01,  2.08654529e-01,\n",
       "        -1.04916712e-02],\n",
       "       [-2.64447994e-01, -7.03938596e-03, -4.44952135e-01,\n",
       "         2.53341117e-02, -3.07656458e-03,  6.95112027e-03,\n",
       "        -1.07956940e-02, -5.42793302e-03, -2.28891147e-02,\n",
       "        -8.41324923e-03,  1.67253329e-02,  3.11615358e-02,\n",
       "         1.80108710e-02,  1.70332961e-02,  2.91384465e-03,\n",
       "         2.79562581e-03, -1.84288195e-02, -4.20565680e-01,\n",
       "        -4.92731582e-02,  5.39842470e-02,  9.02670200e-02,\n",
       "         7.33490286e-01],\n",
       "       [-4.50493385e-16, -9.78308560e-18,  6.70957701e-01,\n",
       "         7.23257431e-17, -2.53333001e-17,  1.01589764e-16,\n",
       "        -1.91237937e-16,  5.52218780e-17, -2.11306211e-17,\n",
       "         5.56353149e-17,  1.40564932e-16,  5.33558465e-17,\n",
       "         1.96228552e-17,  1.42208175e-16,  6.92093931e-17,\n",
       "        -1.11292478e-16, -1.29722077e-16, -7.12693498e-01,\n",
       "        -1.39699611e-01, -1.49558552e-01,  1.84978703e-16,\n",
       "         8.03987319e-17]])"
      ]
     },
     "execution_count": 14,
     "metadata": {},
     "output_type": "execute_result"
    }
   ],
   "source": [
    "pca.components_"
   ]
  },
  {
   "cell_type": "code",
   "execution_count": 13,
   "metadata": {},
   "outputs": [
    {
     "data": {
      "text/plain": [
       "array([4.24068090e+00, 2.77775244e+00, 2.47640046e+00, 1.40162442e+00,\n",
       "       1.23255657e+00, 1.13347446e+00, 1.06129521e+00, 1.03570112e+00,\n",
       "       1.00121260e+00, 9.77161585e-01, 8.95812327e-01, 8.28765526e-01,\n",
       "       7.29883029e-01, 6.34255517e-01, 6.02390006e-01, 4.18966489e-01,\n",
       "       2.19766955e-01, 1.39415709e-01, 1.34591113e-01, 7.21726589e-02,\n",
       "       1.08400132e-02, 2.13264772e-31])"
      ]
     },
     "execution_count": 13,
     "metadata": {},
     "output_type": "execute_result"
    }
   ],
   "source": [
    "pca.explained_variance_"
   ]
  },
  {
   "cell_type": "code",
   "execution_count": 16,
   "metadata": {},
   "outputs": [
    {
     "data": {
      "text/plain": [
       "(22,)"
      ]
     },
     "execution_count": 16,
     "metadata": {},
     "output_type": "execute_result"
    }
   ],
   "source": [
    "pca.singular_values_.shape"
   ]
  },
  {
   "cell_type": "code",
   "execution_count": 17,
   "metadata": {},
   "outputs": [],
   "source": [
    "var=np.cumsum(np.round(pca.explained_variance_ratio_, decimals=3)*100)"
   ]
  },
  {
   "cell_type": "code",
   "execution_count": 18,
   "metadata": {},
   "outputs": [
    {
     "data": {
      "text/plain": [
       "array([19.3, 31.9, 43.1, 49.5, 55.1, 60.2, 65. , 69.7, 74.2, 78.6, 82.7,\n",
       "       86.5, 89.8, 92.7, 95.4, 97.3, 98.3, 98.9, 99.5, 99.8, 99.8, 99.8])"
      ]
     },
     "execution_count": 18,
     "metadata": {},
     "output_type": "execute_result"
    }
   ],
   "source": [
    "var"
   ]
  },
  {
   "cell_type": "markdown",
   "metadata": {},
   "source": [
    "# i want 14 components"
   ]
  },
  {
   "cell_type": "code",
   "execution_count": null,
   "metadata": {},
   "outputs": [],
   "source": []
  },
  {
   "cell_type": "code",
   "execution_count": null,
   "metadata": {},
   "outputs": [],
   "source": []
  },
  {
   "cell_type": "code",
   "execution_count": null,
   "metadata": {},
   "outputs": [],
   "source": [
    "    df = get_df('data/train.csv', test=False)\n",
    "    test_df = get_df('data/test.csv', test=True)\n",
    "\n",
    "    # convert to matrix form\n",
    "    train_X = df.drop('Survived', axis=1).values"
   ]
  },
  {
   "cell_type": "code",
   "execution_count": null,
   "metadata": {},
   "outputs": [],
   "source": [
    "categorical_vars = ['nicnamed', 'est_age', 'embark_S', 'male', 'cabin_B', 'cabin_E', 'cabin_X', 'no_age', 'embark_Q', 'cabin_C', 'cabin_D', 'cabin_F', 'cabin_G']"
   ]
  },
  {
   "cell_type": "code",
   "execution_count": null,
   "metadata": {},
   "outputs": [],
   "source": [
    "df.loc[:,categorical_vars]"
   ]
  },
  {
   "cell_type": "code",
   "execution_count": null,
   "metadata": {},
   "outputs": [],
   "source": [
    "df.drop(categorical_vars, axis=1) # scale this, re attach to df.loc[:,categorical_vars]"
   ]
  },
  {
   "cell_type": "code",
   "execution_count": null,
   "metadata": {},
   "outputs": [],
   "source": [
    "df.shape"
   ]
  },
  {
   "cell_type": "code",
   "execution_count": null,
   "metadata": {},
   "outputs": [],
   "source": [
    "ints = np.random.randint(0,10, (3,3))"
   ]
  },
  {
   "cell_type": "code",
   "execution_count": null,
   "metadata": {},
   "outputs": [],
   "source": [
    "floats = np.random.rand(3,3)"
   ]
  },
  {
   "cell_type": "code",
   "execution_count": null,
   "metadata": {},
   "outputs": [],
   "source": [
    "np.hstack([ints, floats])"
   ]
  },
  {
   "cell_type": "code",
   "execution_count": null,
   "metadata": {},
   "outputs": [],
   "source": [
    "ints, floats"
   ]
  },
  {
   "cell_type": "code",
   "execution_count": null,
   "metadata": {},
   "outputs": [],
   "source": [
    "def create_submission(model, name, X, ids):\n",
    "    preds = model.predict(X)\n",
    "    data = {'PassengerId': ids, 'Survived': preds}\n",
    "    pd.DataFrame(data)\\\n",
    "    .astype(int)\\\n",
    "    .to_csv(f'data/{name}.csv', index=False)\n",
    "    api.competition_submit(f'data/{name}.csv', name, 'titanic')"
   ]
  },
  {
   "cell_type": "code",
   "execution_count": null,
   "metadata": {},
   "outputs": [],
   "source": [
    " from kaggle.api.kaggle_api_extended import KaggleApi\n",
    " api = KaggleApi()\n",
    " api.authenticate()"
   ]
  },
  {
   "cell_type": "code",
   "execution_count": null,
   "metadata": {},
   "outputs": [],
   "source": [
    "X, y, features = get_vectors('data/train.csv')\n",
    "X_valid, passenger_ids = get_vectors('data/test.csv', test=True)\n",
    "\n",
    "X_train, X_test, y_train, y_test = train_test_split(X, y,random_state=11)"
   ]
  },
  {
   "cell_type": "code",
   "execution_count": null,
   "metadata": {},
   "outputs": [],
   "source": [
    "from sklearn.linear_model import LogisticRegression\n",
    "lr = LogisticRegression(random_state=11)\n",
    "lr.fit(X_train, y_train)\n",
    "lr.score(X_test,y_test)\n",
    "# create_submission(lr, 'oob_lr', X_valid, passenger_ids)"
   ]
  },
  {
   "cell_type": "code",
   "execution_count": null,
   "metadata": {},
   "outputs": [],
   "source": [
    "from sklearn.svm import LinearSVC\n",
    "from sklearn.pipeline import make_pipeline\n",
    "from sklearn.preprocessing import StandardScaler\n",
    "\n",
    "clf = make_pipeline(StandardScaler(),\n",
    "                    LinearSVC(random_state=0, tol=1e-5))\n",
    "clf.fit(X_train, y_train)\n",
    "clf.score(X_test,y_test)"
   ]
  },
  {
   "cell_type": "code",
   "execution_count": null,
   "metadata": {},
   "outputs": [],
   "source": [
    "create_submission(clf, 'linear svc', X_valid, passenger_ids)"
   ]
  },
  {
   "cell_type": "code",
   "execution_count": null,
   "metadata": {},
   "outputs": [],
   "source": [
    "from sklearn.linear_model import LogisticRegressionCV\n",
    "\n",
    "lrcv = LogisticRegressionCV(cv=5, random_state=0)\n",
    "lrcv.fit(X_train, y_train)\n",
    "\n",
    "\n",
    "lrcv.score(X_test, y_test)\n",
    "lrcv.score(X,y)\n",
    "\n",
    "lrcv_1 = LogisticRegressionCV(cv=5, random_state=0)\n",
    "lrcv_1.fit(X,y)\n",
    "lrcv_1.score(X_test,y_test)"
   ]
  },
  {
   "cell_type": "code",
   "execution_count": null,
   "metadata": {},
   "outputs": [],
   "source": [
    "create_submission(lrcv, 'lrcv', X_valid, passenger_ids)"
   ]
  },
  {
   "cell_type": "code",
   "execution_count": null,
   "metadata": {},
   "outputs": [],
   "source": [
    "create_submission(lrcv_1, 'lrcv all', X_valid, passenger_ids)"
   ]
  },
  {
   "cell_type": "code",
   "execution_count": null,
   "metadata": {},
   "outputs": [],
   "source": [
    "from sklearn.linear_model import SGDClassifier\n",
    "\n",
    "sgd = make_pipeline(StandardScaler(),\n",
    "                    SGDClassifier(max_iter=1000, tol=1e-3))\n",
    "sgd.fit(X_train, y_train)"
   ]
  },
  {
   "cell_type": "code",
   "execution_count": null,
   "metadata": {},
   "outputs": [],
   "source": [
    "sgd.score(X_test,y_test)"
   ]
  },
  {
   "cell_type": "code",
   "execution_count": null,
   "metadata": {},
   "outputs": [],
   "source": [
    "create_submission(sgd, 'sgd', X_valid, passenger_ids)"
   ]
  },
  {
   "cell_type": "code",
   "execution_count": null,
   "metadata": {},
   "outputs": [],
   "source": []
  },
  {
   "cell_type": "code",
   "execution_count": null,
   "metadata": {},
   "outputs": [],
   "source": []
  },
  {
   "cell_type": "code",
   "execution_count": null,
   "metadata": {},
   "outputs": [],
   "source": []
  },
  {
   "cell_type": "code",
   "execution_count": null,
   "metadata": {},
   "outputs": [],
   "source": []
  },
  {
   "cell_type": "code",
   "execution_count": null,
   "metadata": {},
   "outputs": [],
   "source": []
  },
  {
   "cell_type": "code",
   "execution_count": null,
   "metadata": {},
   "outputs": [],
   "source": [
    "from data_prep import get_vectors"
   ]
  },
  {
   "cell_type": "code",
   "execution_count": null,
   "metadata": {},
   "outputs": [],
   "source": [
    "train_X, y, features, test_X, ids = get_vectors()"
   ]
  },
  {
   "cell_type": "code",
   "execution_count": null,
   "metadata": {},
   "outputs": [],
   "source": [
    "train_X.shape, test_X.shape"
   ]
  },
  {
   "cell_type": "code",
   "execution_count": null,
   "metadata": {},
   "outputs": [],
   "source": [
    "len(features)"
   ]
  },
  {
   "cell_type": "code",
   "execution_count": null,
   "metadata": {},
   "outputs": [],
   "source": [
    "features"
   ]
  },
  {
   "cell_type": "code",
   "execution_count": null,
   "metadata": {},
   "outputs": [],
   "source": [
    "use_feats = [\n",
    "    'Pclass',\n",
    "    'Age',\n",
    "    'Fare',\n",
    "    # 'num_rooms',\n",
    "    # 'fam_size',\n",
    "    # 'nicnamed',\n",
    "    # 'est_age',\n",
    "    # 'no_age',\n",
    "    # 'embark_Q',\n",
    "    # 'embark_S',\n",
    "    # 'male',\n",
    "    # 'cabin_B',\n",
    "    # 'cabin_C',\n",
    "    # 'cabin_D',\n",
    "    'cabin_E',\n",
    "    'cabin_F',\n",
    "    'cabin_G',\n",
    "    'cabin_X'\n",
    " ]"
   ]
  },
  {
   "cell_type": "code",
   "execution_count": null,
   "metadata": {},
   "outputs": [],
   "source": [
    "ifeats = [features.index(feat) for feat in use_feats]"
   ]
  },
  {
   "cell_type": "code",
   "execution_count": null,
   "metadata": {},
   "outputs": [],
   "source": [
    "ifeats"
   ]
  },
  {
   "cell_type": "code",
   "execution_count": null,
   "metadata": {},
   "outputs": [],
   "source": [
    "train_df_2 = pd.DataFrame(train_X, columns=features)"
   ]
  },
  {
   "cell_type": "code",
   "execution_count": null,
   "metadata": {},
   "outputs": [],
   "source": [
    "train_df_2.describe()"
   ]
  },
  {
   "cell_type": "code",
   "execution_count": null,
   "metadata": {},
   "outputs": [],
   "source": [
    "import pandas as pd"
   ]
  },
  {
   "cell_type": "code",
   "execution_count": null,
   "metadata": {},
   "outputs": [],
   "source": [
    "features"
   ]
  },
  {
   "cell_type": "code",
   "execution_count": null,
   "metadata": {},
   "outputs": [],
   "source": [
    "train_X.shape"
   ]
  },
  {
   "cell_type": "code",
   "execution_count": 1,
   "metadata": {},
   "outputs": [],
   "source": [
    "from data_prep import get_df"
   ]
  },
  {
   "cell_type": "code",
   "execution_count": 2,
   "metadata": {},
   "outputs": [],
   "source": [
    "df = get_df('data/train.csv', test=False)"
   ]
  },
  {
   "cell_type": "code",
   "execution_count": 3,
   "metadata": {},
   "outputs": [
    {
     "data": {
      "text/plain": [
       "Index(['Survived', 'Age', 'fam_size', 'nicnamed', 'est_age', 'no_age',\n",
       "       '_FarexRoomsxClass', 'embark_Q', 'embark_S', 'male', 'cabin_B',\n",
       "       'cabin_C', 'cabin_D', 'cabin_E', 'cabin_F', 'cabin_G', 'cabin_X'],\n",
       "      dtype='object')"
      ]
     },
     "execution_count": 3,
     "metadata": {},
     "output_type": "execute_result"
    }
   ],
   "source": [
    "df.columns"
   ]
  },
  {
   "cell_type": "code",
   "execution_count": 4,
   "metadata": {},
   "outputs": [
    {
     "data": {
      "text/plain": [
       "0       0.0000\n",
       "1      71.2833\n",
       "2       0.0000\n",
       "3      53.1000\n",
       "4       0.0000\n",
       "        ...   \n",
       "886     0.0000\n",
       "887    30.0000\n",
       "888     0.0000\n",
       "889    30.0000\n",
       "890     0.0000\n",
       "Name: _FarexRoomsxClass, Length: 891, dtype: float64"
      ]
     },
     "execution_count": 4,
     "metadata": {},
     "output_type": "execute_result"
    }
   ],
   "source": [
    "df._FarexRoomsxClass"
   ]
  },
  {
   "cell_type": "code",
   "execution_count": null,
   "metadata": {},
   "outputs": [],
   "source": [
    "test_df = get_df('data/test.csv', test=True)"
   ]
  },
  {
   "cell_type": "code",
   "execution_count": null,
   "metadata": {},
   "outputs": [],
   "source": [
    "test_df.columns"
   ]
  },
  {
   "cell_type": "code",
   "execution_count": null,
   "metadata": {},
   "outputs": [],
   "source": [
    "test_df.shape"
   ]
  },
  {
   "cell_type": "code",
   "execution_count": null,
   "metadata": {},
   "outputs": [],
   "source": [
    "df.shape"
   ]
  },
  {
   "cell_type": "code",
   "execution_count": null,
   "metadata": {},
   "outputs": [],
   "source": [
    "len(features)"
   ]
  },
  {
   "cell_type": "code",
   "execution_count": null,
   "metadata": {},
   "outputs": [],
   "source": [
    "df.head(20)"
   ]
  },
  {
   "cell_type": "code",
   "execution_count": null,
   "metadata": {},
   "outputs": [],
   "source": [
    "import numpy as np\n",
    "np.zeros(45)"
   ]
  },
  {
   "cell_type": "code",
   "execution_count": 5,
   "metadata": {},
   "outputs": [],
   "source": [
    "import pandas as pd"
   ]
  },
  {
   "cell_type": "code",
   "execution_count": 6,
   "metadata": {},
   "outputs": [],
   "source": [
    "df = pd.read_csv('data/train.csv')"
   ]
  },
  {
   "cell_type": "code",
   "execution_count": 7,
   "metadata": {},
   "outputs": [
    {
     "data": {
      "text/plain": [
       "0       NaN\n",
       "1       C85\n",
       "2       NaN\n",
       "3      C123\n",
       "4       NaN\n",
       "       ... \n",
       "886     NaN\n",
       "887     B42\n",
       "888     NaN\n",
       "889    C148\n",
       "890     NaN\n",
       "Name: Cabin, Length: 891, dtype: object"
      ]
     },
     "execution_count": 7,
     "metadata": {},
     "output_type": "execute_result"
    }
   ],
   "source": [
    "df.Cabin"
   ]
  },
  {
   "cell_type": "code",
   "execution_count": 8,
   "metadata": {},
   "outputs": [],
   "source": [
    "def num_rooms(x):\n",
    "    if pd.isna(x):\n",
    "        return 0\n",
    "    num_rooms = len(x.split(' '))\n",
    "    return num_rooms"
   ]
  },
  {
   "cell_type": "code",
   "execution_count": 9,
   "metadata": {},
   "outputs": [],
   "source": [
    "df['num_rooms'] = df.Cabin.apply(num_rooms)"
   ]
  },
  {
   "cell_type": "code",
   "execution_count": 10,
   "metadata": {},
   "outputs": [
    {
     "data": {
      "text/plain": [
       "0      0\n",
       "1      1\n",
       "2      0\n",
       "3      1\n",
       "4      0\n",
       "      ..\n",
       "886    0\n",
       "887    1\n",
       "888    0\n",
       "889    1\n",
       "890    0\n",
       "Name: num_rooms, Length: 891, dtype: int64"
      ]
     },
     "execution_count": 10,
     "metadata": {},
     "output_type": "execute_result"
    }
   ],
   "source": [
    "df.num_rooms"
   ]
  },
  {
   "cell_type": "code",
   "execution_count": 12,
   "metadata": {},
   "outputs": [
    {
     "data": {
      "text/plain": [
       "0       8.2500\n",
       "1      72.2833\n",
       "2       8.9250\n",
       "3      54.1000\n",
       "4       9.0500\n",
       "        ...   \n",
       "886    14.0000\n",
       "887    31.0000\n",
       "888    24.4500\n",
       "889    31.0000\n",
       "890     8.7500\n",
       "Name: Fare, Length: 891, dtype: float64"
      ]
     },
     "execution_count": 12,
     "metadata": {},
     "output_type": "execute_result"
    }
   ],
   "source": [
    "df.Fare+1"
   ]
  },
  {
   "cell_type": "code",
   "execution_count": 13,
   "metadata": {},
   "outputs": [
    {
     "data": {
      "text/plain": [
       "0       7.2500\n",
       "1      71.2833\n",
       "2       7.9250\n",
       "3      53.1000\n",
       "4       8.0500\n",
       "        ...   \n",
       "886    13.0000\n",
       "887    30.0000\n",
       "888    23.4500\n",
       "889    30.0000\n",
       "890     7.7500\n",
       "Name: Fare, Length: 891, dtype: float64"
      ]
     },
     "execution_count": 13,
     "metadata": {},
     "output_type": "execute_result"
    }
   ],
   "source": [
    "df.Fare"
   ]
  },
  {
   "cell_type": "code",
   "execution_count": 15,
   "metadata": {},
   "outputs": [
    {
     "data": {
      "text/html": [
       "<div>\n",
       "<style scoped>\n",
       "    .dataframe tbody tr th:only-of-type {\n",
       "        vertical-align: middle;\n",
       "    }\n",
       "\n",
       "    .dataframe tbody tr th {\n",
       "        vertical-align: top;\n",
       "    }\n",
       "\n",
       "    .dataframe thead th {\n",
       "        text-align: right;\n",
       "    }\n",
       "</style>\n",
       "<table border=\"1\" class=\"dataframe\">\n",
       "  <thead>\n",
       "    <tr style=\"text-align: right;\">\n",
       "      <th></th>\n",
       "      <th>PassengerId</th>\n",
       "      <th>Survived</th>\n",
       "      <th>Pclass</th>\n",
       "      <th>Name</th>\n",
       "      <th>Sex</th>\n",
       "      <th>Age</th>\n",
       "      <th>SibSp</th>\n",
       "      <th>Parch</th>\n",
       "      <th>Ticket</th>\n",
       "      <th>Fare</th>\n",
       "      <th>Cabin</th>\n",
       "      <th>Embarked</th>\n",
       "      <th>num_rooms</th>\n",
       "    </tr>\n",
       "  </thead>\n",
       "  <tbody>\n",
       "  </tbody>\n",
       "</table>\n",
       "</div>"
      ],
      "text/plain": [
       "Empty DataFrame\n",
       "Columns: [PassengerId, Survived, Pclass, Name, Sex, Age, SibSp, Parch, Ticket, Fare, Cabin, Embarked, num_rooms]\n",
       "Index: []"
      ]
     },
     "execution_count": 15,
     "metadata": {},
     "output_type": "execute_result"
    }
   ],
   "source": [
    "df[df.Pclass < 1]"
   ]
  },
  {
   "cell_type": "code",
   "execution_count": null,
   "metadata": {},
   "outputs": [],
   "source": []
  }
 ],
 "metadata": {
  "kernelspec": {
   "display_name": "Python 3",
   "language": "python",
   "name": "python3"
  },
  "language_info": {
   "codemirror_mode": {
    "name": "ipython",
    "version": 3
   },
   "file_extension": ".py",
   "mimetype": "text/x-python",
   "name": "python",
   "nbconvert_exporter": "python",
   "pygments_lexer": "ipython3",
   "version": "3.7.4"
  }
 },
 "nbformat": 4,
 "nbformat_minor": 4
}
